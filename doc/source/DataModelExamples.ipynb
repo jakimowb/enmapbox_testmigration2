{
 "cells": [
  {
   "cell_type": "markdown",
   "metadata": {},
   "source": [
    "# Data Model Usage Examples"
   ]
  },
  {
   "cell_type": "markdown",
   "metadata": {},
   "source": [
    "## Imports"
   ]
  },
  {
   "cell_type": "code",
   "execution_count": null,
   "metadata": {},
   "outputs": [],
   "source": [
    "from hubdc.model import *\n",
    "from hubdc.testdata import *\n",
    "import numpy as np\n",
    "import tempfile\n",
    "from os.path import join"
   ]
  },
  {
   "cell_type": "markdown",
   "metadata": {},
   "source": [
    "Initialze notebook display"
   ]
  },
  {
   "cell_type": "code",
   "execution_count": null,
   "metadata": {},
   "outputs": [],
   "source": [
    "import hubdc.nbdisplay as nbd\n",
    "nbd.output_notebook()"
   ]
  },
  {
   "cell_type": "markdown",
   "metadata": {},
   "source": [
    "## Testdata Overview"
   ]
  },
  {
   "cell_type": "code",
   "execution_count": null,
   "metadata": {},
   "outputs": [],
   "source": [
    "import hubdc.testdata\n",
    "print(hubdc.testdata.__doc__)"
   ]
  },
  {
   "cell_type": "markdown",
   "metadata": {},
   "source": [
    "LT51940232010189KIS01"
   ]
  },
  {
   "cell_type": "code",
   "execution_count": null,
   "metadata": {},
   "outputs": [],
   "source": [
    "for key, value in sorted(LT51940232010189KIS01.__dict__.items()):\n",
    "    if not key.startswith('__'):\n",
    "        print('LT51940232010189KIS01.{}: {}'.format(key, value))"
   ]
  },
  {
   "cell_type": "markdown",
   "metadata": {},
   "source": [
    "LT51940232010189KIS01"
   ]
  },
  {
   "cell_type": "code",
   "execution_count": null,
   "metadata": {},
   "outputs": [],
   "source": [
    "for key, value in sorted(LT51940242010189KIS01.__dict__.items()):\n",
    "    if not key.startswith('__'):\n",
    "        print('LT51940242010189KIS01.{}: {}'.format(key, value))"
   ]
  },
  {
   "cell_type": "markdown",
   "metadata": {},
   "source": [
    "BrandenburgDistricts"
   ]
  },
  {
   "cell_type": "code",
   "execution_count": null,
   "metadata": {},
   "outputs": [],
   "source": [
    "for key, value in sorted(BrandenburgDistricts.__dict__.items()):\n",
    "    if not key.startswith('__'):\n",
    "        print('BrandenburgDistricts.{}: {}'.format(key, value))"
   ]
  },
  {
   "cell_type": "markdown",
   "metadata": {},
   "source": [
    "## Open Raster Files"
   ]
  },
  {
   "cell_type": "code",
   "execution_count": null,
   "metadata": {},
   "outputs": [],
   "source": [
    "nir = openRaster(filename=LT51940232010189KIS01.nir)\n",
    "swir1 = openRaster(filename=LT51940232010189KIS01.swir1)\n",
    "red = openRaster(filename=LT51940232010189KIS01.red)\n",
    "cfmask = openRaster(filename=LT51940232010189KIS01.cfmask)\n",
    "(nir, swir1, red, cfmask)"
   ]
  },
  {
   "cell_type": "markdown",
   "metadata": {},
   "source": [
    "## Querying Raster Information"
   ]
  },
  {
   "cell_type": "code",
   "execution_count": null,
   "metadata": {},
   "outputs": [],
   "source": [
    "cfmask.driver()"
   ]
  },
  {
   "cell_type": "code",
   "execution_count": null,
   "metadata": {},
   "outputs": [],
   "source": [
    "cfmask.description()"
   ]
  },
  {
   "cell_type": "code",
   "execution_count": null,
   "metadata": {},
   "outputs": [],
   "source": [
    "cfmask.noDataValue()"
   ]
  },
  {
   "cell_type": "code",
   "execution_count": null,
   "metadata": {},
   "outputs": [],
   "source": [
    "cfmask.dtype()"
   ]
  },
  {
   "cell_type": "code",
   "execution_count": null,
   "metadata": {},
   "outputs": [],
   "source": [
    "zsize, ysize, xsize = cfmask.shape()\n",
    "zsize, ysize, xsize"
   ]
  },
  {
   "cell_type": "code",
   "execution_count": null,
   "metadata": {},
   "outputs": [],
   "source": [
    "grid = cfmask.grid()"
   ]
  },
  {
   "cell_type": "code",
   "execution_count": null,
   "metadata": {},
   "outputs": [],
   "source": [
    "grid.extent()"
   ]
  },
  {
   "cell_type": "code",
   "execution_count": null,
   "metadata": {},
   "outputs": [],
   "source": [
    "grid.resolution()"
   ]
  },
  {
   "cell_type": "code",
   "execution_count": null,
   "metadata": {},
   "outputs": [],
   "source": [
    "grid.projection()"
   ]
  },
  {
   "cell_type": "markdown",
   "metadata": {},
   "source": [
    "## Create Raster"
   ]
  },
  {
   "cell_type": "markdown",
   "metadata": {},
   "source": [
    "### Understanding Formats and Drivers"
   ]
  },
  {
   "cell_type": "markdown",
   "metadata": {},
   "source": [
    "When creating a new raster you have to choose a file format. Most HUB Datacube raster creation routines use the GDAL MEM format as default, which does not store the data to disc, but simply holds it in memory. This is often useful for intermediate results, testing or demonstation perpouses. Different formats are provided by so called drivers. A driver can be used to create a new raster of the corresponding format."
   ]
  },
  {
   "cell_type": "code",
   "execution_count": null,
   "metadata": {},
   "outputs": [],
   "source": [
    "Driver(name='MEM')"
   ]
  },
  {
   "cell_type": "markdown",
   "metadata": {},
   "source": [
    "Some drivers are subclassed..."
   ]
  },
  {
   "cell_type": "code",
   "execution_count": null,
   "metadata": {},
   "outputs": [],
   "source": [
    "MEMDriver() # shortcut for MEM driver"
   ]
  },
  {
   "cell_type": "code",
   "execution_count": null,
   "metadata": {},
   "outputs": [],
   "source": [
    "ENVIDriver()"
   ]
  },
  {
   "cell_type": "code",
   "execution_count": null,
   "metadata": {},
   "outputs": [],
   "source": [
    "GTiffDriver()"
   ]
  },
  {
   "cell_type": "markdown",
   "metadata": {},
   "source": [
    "... and provide functionality to conviniently setup some creation options.\n",
    "\n",
    "For example, use the GTiffDriver to setup the creation options for a LZW compressed and tiled GTiff with a block size of 256. Note that the GTiffDriver exposes some enumerates for selecting appropriate creation option values (e.g. GTiffDriver.COMPRESS.LZW)."
   ]
  },
  {
   "cell_type": "code",
   "execution_count": null,
   "metadata": {},
   "outputs": [],
   "source": [
    "driver = GTiffDriver()\n",
    "driver"
   ]
  },
  {
   "cell_type": "code",
   "execution_count": null,
   "metadata": {},
   "outputs": [],
   "source": [
    "options = driver.creationOptions(tiled=GTiffDriver.TILED.YES, blockxsize=256, blockysize=256, \n",
    "                                 compress=GTiffDriver.COMPRESS.LZW)\n",
    "options"
   ]
  },
  {
   "cell_type": "markdown",
   "metadata": {},
   "source": [
    "### Raster from Array"
   ]
  },
  {
   "cell_type": "markdown",
   "metadata": {},
   "source": [
    "Raster files are always associated with a pixel grid, which is defined by an extent, a resolution and a projection.\n",
    "\n",
    "E.g., define a raster in WGS 84 projection covering the whole world with a resolution of 1°."
   ]
  },
  {
   "cell_type": "code",
   "execution_count": null,
   "metadata": {},
   "outputs": [],
   "source": [
    "grid = Grid(extent=Extent(xmin=-180, xmax=180, ymin=-90, ymax=90), resolution=Resolution(x=1, y=1), \n",
    "            projection=Projection.WGS84())\n",
    "grid"
   ]
  },
  {
   "cell_type": "markdown",
   "metadata": {},
   "source": [
    "Create a MEM raster with random noise."
   ]
  },
  {
   "cell_type": "code",
   "execution_count": null,
   "metadata": {},
   "outputs": [],
   "source": [
    "array = np.random.randint(0, 255, size=(3, grid.size().y(), grid.size().x()), dtype=np.uint8)\n",
    "raster = createRasterFromArray(array=array, grid=grid)\n",
    "raster"
   ]
  },
  {
   "cell_type": "code",
   "execution_count": null,
   "metadata": {},
   "outputs": [],
   "source": [
    "nbd.displayMultibandColor(image=raster, title='Random Colors')"
   ]
  },
  {
   "cell_type": "markdown",
   "metadata": {},
   "source": [
    "Store the raster as an ENVI file."
   ]
  },
  {
   "cell_type": "code",
   "execution_count": null,
   "metadata": {},
   "outputs": [],
   "source": [
    "raster = createRasterFromArray(array=array, grid=grid, filename=join(tempfile.gettempdir(), 'random.img'),\n",
    "                              driver=ENVIDriver())\n",
    "raster.filenames()"
   ]
  },
  {
   "cell_type": "markdown",
   "metadata": {},
   "source": [
    "Store the raster as a LZW compressed GTiff file."
   ]
  },
  {
   "cell_type": "code",
   "execution_count": null,
   "metadata": {},
   "outputs": [],
   "source": [
    "options = GTiffDriver().creationOptions(compress=GTiffDriver.COMPRESS.LZW)\n",
    "options"
   ]
  },
  {
   "cell_type": "code",
   "execution_count": null,
   "metadata": {},
   "outputs": [],
   "source": [
    "raster = createRasterFromArray(array=array, grid=grid, filename=join(tempfile.gettempdir(), 'random.tif'),\n",
    "                              driver=GTiffDriver(), options=options)\n",
    "raster.filenames()"
   ]
  },
  {
   "cell_type": "markdown",
   "metadata": {},
   "source": [
    "### Create empty Raster "
   ]
  },
  {
   "cell_type": "code",
   "execution_count": null,
   "metadata": {},
   "outputs": [],
   "source": [
    "raster = createRaster(grid=grid, bands=3, gdalType=gdal.GDT_Float32)\n",
    "raster"
   ]
  },
  {
   "cell_type": "markdown",
   "metadata": {},
   "source": [
    "### Write Raster Data"
   ]
  },
  {
   "cell_type": "markdown",
   "metadata": {},
   "source": [
    "Using the empty raster from above."
   ]
  },
  {
   "cell_type": "code",
   "execution_count": null,
   "metadata": {},
   "outputs": [],
   "source": [
    "nbd.displayMultibandColor(image=raster)"
   ]
  },
  {
   "cell_type": "markdown",
   "metadata": {},
   "source": [
    "Write red color values to the whole grid."
   ]
  },
  {
   "cell_type": "code",
   "execution_count": null,
   "metadata": {},
   "outputs": [],
   "source": [
    "arrayRed = np.zeros(shape=(3, raster.ysize(), raster.xsize()))\n",
    "arrayRed[0] = 255\n",
    "raster.writeArray(array=arrayRed)\n",
    "nbd.displayMultibandColor(image=raster)"
   ]
  },
  {
   "cell_type": "markdown",
   "metadata": {},
   "source": [
    "Write blue color values to a raster subset."
   ]
  },
  {
   "cell_type": "code",
   "execution_count": null,
   "metadata": {},
   "outputs": [],
   "source": [
    "subgrid = raster.grid().subset(offset=Pixel(x=100, y=100), size=Size(x=50, y=50))\n",
    "arrayBlue = np.zeros(shape=(3, subgrid.size().y(), subgrid.size().x()))\n",
    "arrayBlue[2] = 255\n",
    "raster.writeArray(array=arrayBlue, grid=subgrid)\n",
    "nbd.displayMultibandColor(image=raster)"
   ]
  },
  {
   "cell_type": "markdown",
   "metadata": {},
   "source": [
    "# THERE IS A BUG WITH THE Y ORIGIN!!!"
   ]
  },
  {
   "cell_type": "markdown",
   "metadata": {},
   "source": [
    "Write to the second rasterband creating... "
   ]
  },
  {
   "cell_type": "code",
   "execution_count": null,
   "metadata": {},
   "outputs": [],
   "source": [
    "subgrid = raster.grid().subset(offset=Pixel(x=100, y=100), size=Size(x=50, y=50))\n",
    "arrayBlue = np.zeros(shape=(3, subgrid.size().y(), subgrid.size().x()))\n",
    "arrayBlue[2] = 255\n",
    "raster.writeArray(array=arrayBlue, grid=subgrid)\n",
    "nbd.displayMultibandColor(image=raster)"
   ]
  },
  {
   "cell_type": "markdown",
   "metadata": {},
   "source": [
    "## Managing Raster Metadata"
   ]
  },
  {
   "cell_type": "markdown",
   "metadata": {},
   "source": [
    "### Managing Raster Metadata Items"
   ]
  },
  {
   "cell_type": "code",
   "execution_count": null,
   "metadata": {},
   "outputs": [],
   "source": [
    "grid = Grid(extent=Extent(xmin=-180, xmax=180, ymin=-90, ymax=90), resolution=Resolution(x=1, y=1), \n",
    "            projection=Projection.WGS84())\n",
    "raster = createRaster(grid=grid)\n",
    "raster"
   ]
  },
  {
   "cell_type": "markdown",
   "metadata": {},
   "source": [
    "Set some metadata items."
   ]
  },
  {
   "cell_type": "code",
   "execution_count": null,
   "metadata": {},
   "outputs": [],
   "source": [
    "raster.setMetadataItem(key='my string', value='Hello World', domain='MyDomain')\n",
    "raster.setMetadataItem(key='my int', value=42, domain='MyDomain')\n",
    "raster.setMetadataItem(key='my string list', value=['a', 'b', 'c'], domain='MyDomain')\n",
    "raster.setMetadataItem(key='my int list', value=[1, 2, 3], domain='MyDomain')"
   ]
  },
  {
   "cell_type": "markdown",
   "metadata": {},
   "source": [
    "Query some metadata."
   ]
  },
  {
   "cell_type": "code",
   "execution_count": null,
   "metadata": {},
   "outputs": [],
   "source": [
    "raster.metadataDomainList()"
   ]
  },
  {
   "cell_type": "code",
   "execution_count": null,
   "metadata": {},
   "outputs": [],
   "source": [
    "raster.metadataDict()['MyDomain']"
   ]
  },
  {
   "cell_type": "code",
   "execution_count": null,
   "metadata": {},
   "outputs": [],
   "source": [
    "raster.metadataItem(key='my int', domain='MyDomain')"
   ]
  },
  {
   "cell_type": "markdown",
   "metadata": {},
   "source": [
    "Specify a data type if needed."
   ]
  },
  {
   "cell_type": "code",
   "execution_count": null,
   "metadata": {},
   "outputs": [],
   "source": [
    "raster.metadataItem(key='my int', domain='MyDomain', dtype=int)"
   ]
  },
  {
   "cell_type": "code",
   "execution_count": null,
   "metadata": {},
   "outputs": [],
   "source": [
    "raster.metadataItem(key='my int list', domain='MyDomain', dtype=int)"
   ]
  },
  {
   "cell_type": "markdown",
   "metadata": {},
   "source": [
    "### Managing Rasterband Metadata Items"
   ]
  },
  {
   "cell_type": "code",
   "execution_count": null,
   "metadata": {},
   "outputs": [],
   "source": []
  },
  {
   "cell_type": "code",
   "execution_count": null,
   "metadata": {},
   "outputs": [],
   "source": [
    "rasterband = raster.band(index=0)\n",
    "rasterband"
   ]
  },
  {
   "cell_type": "code",
   "execution_count": null,
   "metadata": {},
   "outputs": [],
   "source": [
    "rasterband.setMetadataItem(key='my int', value=42, domain='MyDomain')\n",
    "rasterband.metadataItem(key='my int', domain='MyDomain', dtype=int)"
   ]
  },
  {
   "cell_type": "markdown",
   "metadata": {},
   "source": [
    "### Managing No Data Values"
   ]
  },
  {
   "cell_type": "code",
   "execution_count": null,
   "metadata": {},
   "outputs": [],
   "source": [
    "grid = Grid(extent=Extent(xmin=-180, xmax=180, ymin=-90, ymax=90), resolution=Resolution(x=1, y=1), \n",
    "            projection=Projection.WGS84())\n",
    "raster = createRaster(grid=grid, bands=3)\n",
    "raster"
   ]
  },
  {
   "cell_type": "markdown",
   "metadata": {},
   "source": [
    "Set a single no data value to all raster bands."
   ]
  },
  {
   "cell_type": "code",
   "execution_count": null,
   "metadata": {},
   "outputs": [],
   "source": [
    "raster.setNoDataValue(value=-9999)\n",
    "raster.noDataValue()"
   ]
  },
  {
   "cell_type": "markdown",
   "metadata": {},
   "source": [
    "Set different no data values to each band."
   ]
  },
  {
   "cell_type": "code",
   "execution_count": null,
   "metadata": {},
   "outputs": [],
   "source": [
    "raster.setNoDataValues(values=[-9999, 0, 255])\n",
    "raster.noDataValues()"
   ]
  },
  {
   "cell_type": "markdown",
   "metadata": {},
   "source": [
    "Set no data values by iterating over the raster bands."
   ]
  },
  {
   "cell_type": "code",
   "execution_count": null,
   "metadata": {},
   "outputs": [],
   "source": [
    "for band, noDataValue in zip(raster.bands(), [-1, -2, -3]):\n",
    "    band.setNoDataValue(value=noDataValue)\n",
    "    \n",
    "noDataValues = [band.noDataValue() for band in raster.bands()]\n",
    "noDataValues"
   ]
  },
  {
   "cell_type": "markdown",
   "metadata": {},
   "source": [
    "### Managing Acquisition Time"
   ]
  },
  {
   "cell_type": "code",
   "execution_count": null,
   "metadata": {},
   "outputs": [],
   "source": [
    "import datetime\n",
    "date = datetime.datetime(year=2010, month=12, day=24)\n",
    "print(date)\n",
    "date"
   ]
  },
  {
   "cell_type": "code",
   "execution_count": null,
   "metadata": {},
   "outputs": [],
   "source": [
    "raster.setAcquisitionTime(acquisitionTime=date)\n",
    "raster.acquisitionTime()"
   ]
  },
  {
   "cell_type": "markdown",
   "metadata": {},
   "source": [
    "### Managing Descriptions"
   ]
  },
  {
   "cell_type": "markdown",
   "metadata": {},
   "source": [
    "Set raster description."
   ]
  },
  {
   "cell_type": "code",
   "execution_count": null,
   "metadata": {},
   "outputs": [],
   "source": [
    "raster.setDescription(value='This is a raster file')\n",
    "raster.description()"
   ]
  },
  {
   "cell_type": "markdown",
   "metadata": {},
   "source": [
    "Set rasterband description"
   ]
  },
  {
   "cell_type": "code",
   "execution_count": null,
   "metadata": {},
   "outputs": [],
   "source": [
    "for i, band in enumerate(raster.bands()):\n",
    "    band.setDescription(value='This is band number {}'.format(i+1))\n",
    "[band.description() for band in raster.bands()]"
   ]
  },
  {
   "cell_type": "markdown",
   "metadata": {},
   "source": [
    "### Special Considerations for ENVI Software"
   ]
  },
  {
   "cell_type": "markdown",
   "metadata": {},
   "source": [
    "When a raster is written "
   ]
  },
  {
   "cell_type": "markdown",
   "metadata": {},
   "source": [
    "\n",
    "## Read and Display Raster Data"
   ]
  },
  {
   "cell_type": "markdown",
   "metadata": {},
   "source": [
    "### Landsat Colored-Infrared as Multiband Color Image"
   ]
  },
  {
   "cell_type": "code",
   "execution_count": null,
   "metadata": {},
   "outputs": [],
   "source": [
    "stack = np.vstack((nir.readAsArray(), swir1.readAsArray(), red.readAsArray()))\n",
    "nbd.displayMultibandColor(image=stack, dataStretches=[(0,50)]*3, title='Landsat ColoredInfraRed', )\n",
    "stack.shape"
   ]
  },
  {
   "cell_type": "markdown",
   "metadata": {},
   "source": [
    "### Landsat CFMask as Singleband Grey Image"
   ]
  },
  {
   "cell_type": "code",
   "execution_count": null,
   "metadata": {},
   "outputs": [],
   "source": [
    "band = cfmask.readAsArray()\n",
    "nbd.displaySinglebandGrey(band=band, dataStretch=(0, 4), title='Landsat CFMask')"
   ]
  },
  {
   "cell_type": "markdown",
   "metadata": {},
   "source": [
    "### Landsat NDVI as Singleband Pseudocolor Image"
   ]
  },
  {
   "cell_type": "code",
   "execution_count": null,
   "metadata": {},
   "outputs": [],
   "source": [
    "def ndvi(nir, red): \n",
    "    return np.float32(nir-red)/(nir+red)\n",
    "\n",
    "band = ndvi(nir=nir.readAsArray(), red=red.readAsArray())\n",
    "nbd.displaySinglebandPseudocolor(band=band, dataStretch=(0, 0.7), colormap='RdYlGn',\n",
    "                                 title='Landsat NDVI')"
   ]
  },
  {
   "cell_type": "markdown",
   "metadata": {},
   "source": [
    "## Open Vector Files"
   ]
  },
  {
   "cell_type": "code",
   "execution_count": null,
   "metadata": {},
   "outputs": [],
   "source": [
    "brandenburg = openVector(filename=BrandenburgDistricts.shp)\n",
    "brandenburg"
   ]
  },
  {
   "cell_type": "markdown",
   "metadata": {},
   "source": [
    "## Query Vector Information"
   ]
  },
  {
   "cell_type": "code",
   "execution_count": null,
   "metadata": {},
   "outputs": [],
   "source": [
    "brandenburg.filename()"
   ]
  },
  {
   "cell_type": "code",
   "execution_count": null,
   "metadata": {},
   "outputs": [],
   "source": [
    "brandenburg.featureCount()"
   ]
  },
  {
   "cell_type": "code",
   "execution_count": null,
   "metadata": {},
   "outputs": [],
   "source": [
    "brandenburg.fieldCount()"
   ]
  },
  {
   "cell_type": "code",
   "execution_count": null,
   "metadata": {},
   "outputs": [],
   "source": [
    "brandenburg.fieldNames()"
   ]
  },
  {
   "cell_type": "code",
   "execution_count": null,
   "metadata": {},
   "outputs": [],
   "source": [
    "brandenburg.fieldTypeNames()"
   ]
  },
  {
   "cell_type": "code",
   "execution_count": null,
   "metadata": {},
   "outputs": [],
   "source": [
    "brandenburg.spatialExtent()"
   ]
  },
  {
   "cell_type": "markdown",
   "metadata": {},
   "source": [
    "## Rasterize and Display Vector Data"
   ]
  },
  {
   "cell_type": "code",
   "execution_count": null,
   "metadata": {},
   "outputs": [],
   "source": [
    "brandenburg.spatialExtent()"
   ]
  },
  {
   "cell_type": "code",
   "execution_count": null,
   "metadata": {},
   "outputs": [],
   "source": [
    "grid = Grid(extent=brandenburg.spatialExtent(), resolution=Resolution(x=0.005, y=0.005))"
   ]
  },
  {
   "cell_type": "code",
   "execution_count": null,
   "metadata": {},
   "outputs": [],
   "source": [
    "raster = brandenburg.rasterize(grid=grid)\n",
    "band = raster.readAsArray()\n",
    "nbd.displaySinglebandGrey(band=band, dataStretch=(0, 1), title='Brandenburg')"
   ]
  },
  {
   "cell_type": "code",
   "execution_count": null,
   "metadata": {},
   "outputs": [],
   "source": [
    "raster = brandenburg.rasterize(grid=grid, burnAttribute='id', initValue=-5)\n",
    "band = raster.readAsArray()\n",
    "nbd.displaySinglebandGrey(band=band, dataStretch=(np.min, np.max), title='Brandenburg Districts')"
   ]
  },
  {
   "cell_type": "markdown",
   "metadata": {},
   "source": [
    "## Resample and Reproject Raster and Vector Data"
   ]
  },
  {
   "cell_type": "markdown",
   "metadata": {},
   "source": [
    "### Translate Raster Data"
   ]
  },
  {
   "cell_type": "code",
   "execution_count": null,
   "metadata": {},
   "outputs": [],
   "source": [
    "targetGrid = Grid(extent=cfmask.grid().spatialExtent(), resolution=Resolution(x=1000, y=1000))\n",
    "targetGrid"
   ]
  },
  {
   "cell_type": "code",
   "execution_count": null,
   "metadata": {},
   "outputs": [],
   "source": [
    "result = cfmask.translate(grid=targetGrid)\n",
    "result"
   ]
  },
  {
   "cell_type": "code",
   "execution_count": null,
   "metadata": {},
   "outputs": [],
   "source": [
    "nbd.displaySinglebandGrey(band=result.readAsArray(), dataStretch=(0, 4), title='CFMask resampled to 1000m resolution')"
   ]
  },
  {
   "cell_type": "markdown",
   "metadata": {},
   "source": [
    "### Warp Raster Data"
   ]
  },
  {
   "cell_type": "code",
   "execution_count": null,
   "metadata": {},
   "outputs": [],
   "source": [
    "targetExtent = cfmask.grid().spatialExtent().reproject(targetProjection=Projection.WGS84())\n",
    "targetExtent"
   ]
  },
  {
   "cell_type": "code",
   "execution_count": null,
   "metadata": {},
   "outputs": [],
   "source": [
    "targetGrid = Grid(extent=targetExtent, resolution=Resolution(x=0.01, y=0.01))\n",
    "targetGrid"
   ]
  },
  {
   "cell_type": "code",
   "execution_count": null,
   "metadata": {},
   "outputs": [],
   "source": [
    "result = cfmask.warp(grid=targetGrid)\n",
    "result"
   ]
  },
  {
   "cell_type": "code",
   "execution_count": null,
   "metadata": {},
   "outputs": [],
   "source": [
    "nbd.displaySinglebandGrey(band=result.readAsArray(), dataStretch=(0, 4), \n",
    "                          title='CFMask reprojected into WGS 84 with 0.01° resolution')"
   ]
  },
  {
   "cell_type": "markdown",
   "metadata": {},
   "source": [
    "### Mosaic Example"
   ]
  },
  {
   "cell_type": "code",
   "execution_count": null,
   "metadata": {},
   "outputs": [],
   "source": [
    "grid = Grid(extent=Extent(xmin=9, xmax=15, ymin=50, ymax=55), \n",
    "            resolution=Resolution(x=0.0075, y=0.0075),\n",
    "            projection=Projection.WGS84())\n",
    "grid"
   ]
  },
  {
   "cell_type": "code",
   "execution_count": null,
   "metadata": {},
   "outputs": [],
   "source": [
    "nir023 = openRaster(filename=LT51940232010189KIS01.nir)\n",
    "swir023 = openRaster(filename=LT51940232010189KIS01.swir1)\n",
    "red023 = openRaster(filename=LT51940232010189KIS01.red)\n",
    "nir024 = openRaster(filename=LT51940242010189KIS01.nir)\n",
    "swir024 = openRaster(filename=LT51940242010189KIS01.swir1)\n",
    "red024 = openRaster(filename=LT51940242010189KIS01.red)\n",
    "brandenburg = openVector(filename=BrandenburgDistricts.shp)"
   ]
  },
  {
   "cell_type": "code",
   "execution_count": null,
   "metadata": {},
   "outputs": [],
   "source": [
    "r = nir023.warp(grid=grid).readAsArray()\n",
    "r[r == 255] = nir024.warp(grid=grid).readAsArray()[r == 255]\n",
    "g = swir023.warp(grid=grid).readAsArray()\n",
    "g[g == 255] = swir024.warp(grid=grid).readAsArray()[g == 255]\n",
    "b = red023.warp(grid=grid).readAsArray()\n",
    "b[b == 255] = red024.warp(grid=grid).readAsArray()[b == 255]\n",
    "rgb = np.vstack([r, g, b])\n",
    "mask = brandenburg.rasterize(grid=grid).readAsArray() == 1\n",
    "rgb[:, mask[0]] = 255\n",
    "\n",
    "nbd.displayMultibandColor(image=rgb, dataStretches=[(0, 50)]*3, \n",
    "                          title='Landsat ColoredInfrared Mosaick without Brandenburg')"
   ]
  },
  {
   "cell_type": "code",
   "execution_count": null,
   "metadata": {},
   "outputs": [],
   "source": []
  }
 ],
 "metadata": {
  "kernelspec": {
   "display_name": "Python 2",
   "language": "python",
   "name": "python2"
  },
  "language_info": {
   "codemirror_mode": {
    "name": "ipython",
    "version": 2
   },
   "file_extension": ".py",
   "mimetype": "text/x-python",
   "name": "python",
   "nbconvert_exporter": "python",
   "pygments_lexer": "ipython2",
   "version": "2.7.13"
  }
 },
 "nbformat": 4,
 "nbformat_minor": 2
}
